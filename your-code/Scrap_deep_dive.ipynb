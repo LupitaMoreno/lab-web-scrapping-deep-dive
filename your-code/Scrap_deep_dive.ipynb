{
 "cells": [
  {
   "cell_type": "code",
   "execution_count": 3,
   "metadata": {},
   "outputs": [],
   "source": [
    "import requests\n",
    "from bs4 import BeautifulSoup\n",
    "import time"
   ]
  },
  {
   "cell_type": "code",
   "execution_count": 12,
   "metadata": {},
   "outputs": [],
   "source": [
    "url = 'http://books.toscrape.com/catalogue/page-2.html?'\n",
    "response = requests.get(url)"
   ]
  },
  {
   "cell_type": "code",
   "execution_count": 13,
   "metadata": {},
   "outputs": [],
   "source": [
    "html = requests.get(url).content"
   ]
  },
  {
   "cell_type": "code",
   "execution_count": 14,
   "metadata": {},
   "outputs": [],
   "source": [
    "soup = BeautifulSoup(html,'lxml')"
   ]
  },
  {
   "cell_type": "code",
   "execution_count": 21,
   "metadata": {},
   "outputs": [],
   "source": [
    "book_info = soup.select('h3 > a')"
   ]
  },
  {
   "cell_type": "code",
   "execution_count": 34,
   "metadata": {},
   "outputs": [
    {
     "data": {
      "text/plain": [
       "[<a href=\"in-her-wake_980/index.html\" title=\"In Her Wake\">In Her Wake</a>,\n",
       " <a href=\"how-music-works_979/index.html\" title=\"How Music Works\">How Music Works</a>,\n",
       " <a href=\"foolproof-preserving-a-guide-to-small-batch-jams-jellies-pickles-condiments-and-more-a-foolproof-guide-to-making-small-batch-jams-jellies-pickles-condiments-and-more_978/index.html\" title=\"Foolproof Preserving: A Guide to Small Batch Jams, Jellies, Pickles, Condiments, and More: A Foolproof Guide to Making Small Batch Jams, Jellies, Pickles, Condiments, and More\">Foolproof Preserving: A Guide ...</a>,\n",
       " <a href=\"chase-me-paris-nights-2_977/index.html\" title=\"Chase Me (Paris Nights #2)\">Chase Me (Paris Nights ...</a>,\n",
       " <a href=\"black-dust_976/index.html\" title=\"Black Dust\">Black Dust</a>,\n",
       " <a href=\"birdsong-a-story-in-pictures_975/index.html\" title=\"Birdsong: A Story in Pictures\">Birdsong: A Story in ...</a>,\n",
       " <a href=\"americas-cradle-of-quarterbacks-western-pennsylvanias-football-factory-from-johnny-unitas-to-joe-montana_974/index.html\" title=\"America's Cradle of Quarterbacks: Western Pennsylvania's Football Factory from Johnny Unitas to Joe Montana\">America's Cradle of Quarterbacks: ...</a>,\n",
       " <a href=\"aladdin-and-his-wonderful-lamp_973/index.html\" title=\"Aladdin and His Wonderful Lamp\">Aladdin and His Wonderful ...</a>,\n",
       " <a href=\"worlds-elsewhere-journeys-around-shakespeares-globe_972/index.html\" title=\"Worlds Elsewhere: Journeys Around Shakespeare’s Globe\">Worlds Elsewhere: Journeys Around ...</a>,\n",
       " <a href=\"wall-and-piece_971/index.html\" title=\"Wall and Piece\">Wall and Piece</a>,\n",
       " <a href=\"the-four-agreements-a-practical-guide-to-personal-freedom_970/index.html\" title=\"The Four Agreements: A Practical Guide to Personal Freedom\">The Four Agreements: A ...</a>,\n",
       " <a href=\"the-five-love-languages-how-to-express-heartfelt-commitment-to-your-mate_969/index.html\" title=\"The Five Love Languages: How to Express Heartfelt Commitment to Your Mate\">The Five Love Languages: ...</a>,\n",
       " <a href=\"the-elephant-tree_968/index.html\" title=\"The Elephant Tree\">The Elephant Tree</a>,\n",
       " <a href=\"the-bear-and-the-piano_967/index.html\" title=\"The Bear and the Piano\">The Bear and the ...</a>,\n",
       " <a href=\"sophies-world_966/index.html\" title=\"Sophie's World\">Sophie's World</a>,\n",
       " <a href=\"penny-maybe_965/index.html\" title=\"Penny Maybe\">Penny Maybe</a>,\n",
       " <a href=\"maude-1883-1993she-grew-up-with-the-country_964/index.html\" title=\"Maude (1883-1993):She Grew Up with the country\">Maude (1883-1993):She Grew Up ...</a>,\n",
       " <a href=\"in-a-dark-dark-wood_963/index.html\" title=\"In a Dark, Dark Wood\">In a Dark, Dark ...</a>,\n",
       " <a href=\"behind-closed-doors_962/index.html\" title=\"Behind Closed Doors\">Behind Closed Doors</a>,\n",
       " <a href=\"you-cant-bury-them-all-poems_961/index.html\" title=\"You can't bury them all: Poems\">You can't bury them ...</a>]"
      ]
     },
     "execution_count": 34,
     "metadata": {},
     "output_type": "execute_result"
    }
   ],
   "source": [
    "book_info "
   ]
  },
  {
   "cell_type": "code",
   "execution_count": 37,
   "metadata": {},
   "outputs": [],
   "source": [
    "title_link = [element['title'] for element in book_info] #metodo 1 atributos\n",
    "title_text = [element.text for element in book_info] #metodo 2 text dentro del tag"
   ]
  },
  {
   "cell_type": "code",
   "execution_count": 38,
   "metadata": {},
   "outputs": [
    {
     "data": {
      "text/plain": [
       "['In Her Wake',\n",
       " 'How Music Works',\n",
       " 'Foolproof Preserving: A Guide ...',\n",
       " 'Chase Me (Paris Nights ...',\n",
       " 'Black Dust',\n",
       " 'Birdsong: A Story in ...',\n",
       " \"America's Cradle of Quarterbacks: ...\",\n",
       " 'Aladdin and His Wonderful ...',\n",
       " 'Worlds Elsewhere: Journeys Around ...',\n",
       " 'Wall and Piece',\n",
       " 'The Four Agreements: A ...',\n",
       " 'The Five Love Languages: ...',\n",
       " 'The Elephant Tree',\n",
       " 'The Bear and the ...',\n",
       " \"Sophie's World\",\n",
       " 'Penny Maybe',\n",
       " 'Maude (1883-1993):She Grew Up ...',\n",
       " 'In a Dark, Dark ...',\n",
       " 'Behind Closed Doors',\n",
       " \"You can't bury them ...\"]"
      ]
     },
     "execution_count": 38,
     "metadata": {},
     "output_type": "execute_result"
    }
   ],
   "source": [
    "title_text"
   ]
  },
  {
   "cell_type": "code",
   "execution_count": 40,
   "metadata": {},
   "outputs": [
    {
     "data": {
      "text/plain": [
       "['In Her Wake',\n",
       " 'How Music Works',\n",
       " 'Foolproof Preserving: A Guide to Small Batch Jams, Jellies, Pickles, Condiments, and More: A Foolproof Guide to Making Small Batch Jams, Jellies, Pickles, Condiments, and More',\n",
       " 'Chase Me (Paris Nights #2)',\n",
       " 'Black Dust',\n",
       " 'Birdsong: A Story in Pictures',\n",
       " \"America's Cradle of Quarterbacks: Western Pennsylvania's Football Factory from Johnny Unitas to Joe Montana\",\n",
       " 'Aladdin and His Wonderful Lamp',\n",
       " 'Worlds Elsewhere: Journeys Around Shakespeare’s Globe',\n",
       " 'Wall and Piece',\n",
       " 'The Four Agreements: A Practical Guide to Personal Freedom',\n",
       " 'The Five Love Languages: How to Express Heartfelt Commitment to Your Mate',\n",
       " 'The Elephant Tree',\n",
       " 'The Bear and the Piano',\n",
       " \"Sophie's World\",\n",
       " 'Penny Maybe',\n",
       " 'Maude (1883-1993):She Grew Up with the country',\n",
       " 'In a Dark, Dark Wood',\n",
       " 'Behind Closed Doors',\n",
       " \"You can't bury them all: Poems\"]"
      ]
     },
     "execution_count": 40,
     "metadata": {},
     "output_type": "execute_result"
    }
   ],
   "source": [
    "title_link"
   ]
  },
  {
   "cell_type": "code",
   "execution_count": null,
   "metadata": {},
   "outputs": [],
   "source": []
  }
 ],
 "metadata": {
  "kernelspec": {
   "display_name": "Python 3",
   "language": "python",
   "name": "python3"
  },
  "language_info": {
   "codemirror_mode": {
    "name": "ipython",
    "version": 3
   },
   "file_extension": ".py",
   "mimetype": "text/x-python",
   "name": "python",
   "nbconvert_exporter": "python",
   "pygments_lexer": "ipython3",
   "version": "3.7.6"
  }
 },
 "nbformat": 4,
 "nbformat_minor": 4
}
